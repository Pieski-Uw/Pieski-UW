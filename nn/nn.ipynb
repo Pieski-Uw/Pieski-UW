{
 "cells": [
  {
   "attachments": {},
   "cell_type": "markdown",
   "metadata": {},
   "source": [
    "Firstly connect to the database and gather all available data."
   ]
  },
  {
   "cell_type": "code",
   "execution_count": 2,
   "metadata": {},
   "outputs": [
    {
     "name": "stdout",
     "output_type": "stream",
     "text": [
      "Connected to the PostgreSQL database!\n",
      "28768\n",
      "210\n",
      "[('Mieszaniec', 6, 12, 'm', datetime.date(2023, 5, 27), datetime.date(2023, 5, 31)), ('Amstaff/Pitbull', 24, 25, 'f', datetime.date(2022, 9, 13), datetime.date(2023, 6, 1)), ('Mieszaniec', 12, 16, 'f', datetime.date(2023, 5, 22), datetime.date(2023, 5, 30)), ('Mieszaniec', 12, 9, 'f', datetime.date(2023, 5, 15), datetime.date(2023, 6, 1)), ('Europejska', 12, 4, 'f', datetime.date(2023, 5, 30), datetime.date(2023, 6, 1)), ('Mieszaniec', 48, 8, 'm', datetime.date(2023, 4, 4), datetime.date(2023, 6, 1)), ('Europejska', 24, 3, 'f', datetime.date(2023, 5, 8), datetime.date(2023, 5, 30)), ('Amstaff', 72, 35, 'f', datetime.date(2022, 11, 4), datetime.date(2023, 6, 1)), ('Bulterier', 24, 25, 'm', datetime.date(2022, 8, 31), datetime.date(2023, 6, 1)), ('Mieszaniec', 120, 9, 'm', datetime.date(2023, 5, 11), datetime.date(2023, 6, 1))]\n",
      "PostgreSQL connection is closed.\n"
     ]
    }
   ],
   "source": [
    "import psycopg2\n",
    "\n",
    "dbname = \"\"\n",
    "user = \"\"\n",
    "password = \"\"\n",
    "host = \"\"  \n",
    "port = \"\"  \n",
    "\n",
    "try:\n",
    "    connection = psycopg2.connect(\n",
    "        dbname=dbname, user=user, password=password, host=host, port=port\n",
    "    )\n",
    "    print(\"Connected to the PostgreSQL database!\")\n",
    "except (Exception, psycopg2.Error) as error:\n",
    "    print(\"Error while connecting to PostgreSQL:\", error)\n",
    "    connection = None\n",
    "\n",
    "\n",
    "if connection:\n",
    "\n",
    "    cursor = connection.cursor()\n",
    "    query = \"select breed, age, weight, gender, date_in, date_out from webscraper_pet;\"\n",
    "    cursor.execute(query)\n",
    "    results = cursor.fetchall()\n",
    "    cursor.close()\n",
    "\n",
    "    query = \"select distinct breed from webscraper_pet;\"\n",
    "    cursor = connection.cursor()\n",
    "    cursor.execute(query)\n",
    "    breeds = cursor.fetchall()\n",
    "    cursor.close()\n",
    "\n",
    "    # map all strings in breeds to integers\n",
    "    breeds = {breed[0]: i for i, breed in enumerate(breeds)}\n",
    "\n",
    "    breeds_reverse = {v: k for k, v in breeds.items()}\n",
    "\n",
    "    print (len(results))\n",
    "    print (len(breeds))\n",
    "\n",
    "    print (results[:10])\n",
    "\n",
    "\n",
    "    connection.close()\n",
    "    print(\"PostgreSQL connection is closed.\")\n"
   ]
  },
  {
   "attachments": {},
   "cell_type": "markdown",
   "metadata": {},
   "source": [
    "Secondly prepare the data for a k-nn neural network.\n",
    "Results_preprocessed will become a list of breed, age, weight and months spent in the shelter.\n",
    "We also delete all classes that are very small.\n",
    "We stratify the data to create train and test datasets."
   ]
  },
  {
   "cell_type": "code",
   "execution_count": 3,
   "metadata": {},
   "outputs": [
    {
     "name": "stdout",
     "output_type": "stream",
     "text": [
      "(22998, 4)\n",
      "(5750, 4)\n",
      "(22998,)\n",
      "(5750,)\n"
     ]
    }
   ],
   "source": [
    "import numpy as np\n",
    "from sklearn.model_selection import train_test_split\n",
    "\n",
    "\n",
    "results_preprocessed = []\n",
    "\n",
    "for result in results:\n",
    "    inputs = []\n",
    "\n",
    "    inputs.append(breeds[result[0]])\n",
    "\n",
    "    inputs.append(result[1])\n",
    "    inputs.append(result[2])\n",
    "    \n",
    "    if result[3] == 'm':\n",
    "        inputs.append(0)\n",
    "    else:\n",
    "        inputs.append(1)\n",
    "\n",
    "    months_spent = (result[5] - result[4]).days / 30\n",
    "\n",
    "    inputs.append(int(months_spent))\n",
    "\n",
    "    if months_spent < 0:\n",
    "        continue\n",
    "    \n",
    "    results_preprocessed.append(inputs)\n",
    "\n",
    "results_preprocessed = np.array(results_preprocessed)\n",
    "\n",
    "labels = results_preprocessed[:, -1]\n",
    "\n",
    "classes = np.unique(labels, return_counts=True)\n",
    "\n",
    "new_results_preprocessed = []\n",
    "\n",
    "for result in results_preprocessed:\n",
    "    for x in range(classes[0].shape[0]):\n",
    "        if result[-1] == classes[0][x]:\n",
    "            if classes[1][x] != 1:\n",
    "                new_results_preprocessed.append(result)\n",
    "\n",
    "results_preprocessed = np.array(new_results_preprocessed)\n",
    "\n",
    "# split results into training and testing data\n",
    "X_train, X_test, y_train, y_test = train_test_split(\n",
    "    results_preprocessed[:, :-1], results_preprocessed[:, -1], test_size=0.2, stratify=results_preprocessed[:, -1])\n",
    "\n",
    "print (X_train.shape)\n",
    "print (X_test.shape)\n",
    "print (y_train.shape)\n",
    "print (y_test.shape)\n",
    "\n"
   ]
  },
  {
   "attachments": {},
   "cell_type": "markdown",
   "metadata": {},
   "source": [
    "We create a k-nn neural network for different number of neighbours. We asses the accuracy of each network. And show it as a graph."
   ]
  },
  {
   "cell_type": "code",
   "execution_count": 5,
   "metadata": {},
   "outputs": [],
   "source": [
    "from sklearn.neighbors import KNeighborsClassifier\n",
    "from sklearn.model_selection import cross_val_score, cross_validate\n",
    "from sklearn.model_selection import GridSearchCV\n",
    "from sklearn.metrics import accuracy_score\n",
    "import matplotlib as mpl\n",
    "mpl.use('tkagg')\n",
    "import matplotlib.pyplot as plt\n",
    "import numpy as np\n",
    "\n",
    "acc_score = []\n",
    "\n",
    "for k in np.arange(1, 30):\n",
    "    knn = KNeighborsClassifier(n_neighbors = k)\n",
    "\n",
    "    knn.fit(X_train, y_train)\n",
    "\n",
    "    predictions = knn.predict(X_test)\n",
    "\n",
    "    acc_score.append(accuracy_score(y_test, predictions))\n",
    "    \n",
    "plt.plot(np.arange(1, 30), acc_score, 'o')\n",
    "plt.xlabel(\"Number of neighbors\")\n",
    "plt.ylabel(\"Acccuracy score\")\n",
    "plt.show()"
   ]
  },
  {
   "attachments": {},
   "cell_type": "markdown",
   "metadata": {},
   "source": [
    "The results are show on this image.\n",
    "![diagram](./Figure_1.png)  \n",
    "The predictions are not very accurate. Lets try to understand why this is."
   ]
  },
  {
   "cell_type": "code",
   "execution_count": 16,
   "metadata": {},
   "outputs": [],
   "source": [
    "only_age = results_preprocessed[:, [1, 4]]\n",
    "only_weight = results_preprocessed[:, [2, 4]]\n",
    "\n",
    "only_age_and_weight = results_preprocessed[:, [1, 2, 4]]\n",
    "\n",
    "#plot a graph from only age and weight\n",
    "plt.scatter(only_age_and_weight[:, 0], only_age_and_weight[:, 1], c=only_age_and_weight[:, 2])\n",
    "plt.show()"
   ]
  },
  {
   "attachments": {},
   "cell_type": "markdown",
   "metadata": {},
   "source": [
    "We get this graph. Where the x axix is the age of the animal and y axix is the weight and the color indicates the time spent in the shelter. One image is the whole graph and the other is a close up.  \n",
    "![figure_2](./Figure_2.png)  \n",
    "![figure_3](./Figure_3.png)  \n",
    "The correlation is not easily seen. This may show that the k-nn is not suitable for this estimate."
   ]
  }
 ],
 "metadata": {
  "kernelspec": {
   "display_name": ".venv",
   "language": "python",
   "name": "python3"
  },
  "language_info": {
   "codemirror_mode": {
    "name": "ipython",
    "version": 3
   },
   "file_extension": ".py",
   "mimetype": "text/x-python",
   "name": "python",
   "nbconvert_exporter": "python",
   "pygments_lexer": "ipython3",
   "version": "3.10.6"
  },
  "orig_nbformat": 4
 },
 "nbformat": 4,
 "nbformat_minor": 2
}
